{
 "cells": [
  {
   "cell_type": "markdown",
   "metadata": {},
   "source": [
    "# What is Machine Learning?"
   ]
  },
  {
   "cell_type": "markdown",
   "metadata": {},
   "source": [
    "* The definition at GeeksForGeeks is, Machine Learning is the field of study that gives computers the capability to learn without being explicitly programmed.\n",
    "* Although this is a good enough definition, it does not fully paint a picture of what Machine Learning does."
   ]
  },
  {
   "cell_type": "markdown",
   "metadata": {},
   "source": [
    "## Let us see how machine learning compares to traditional mathematics. \n",
    "\n",
    "* In traditional mathematics, we are given a function ```f(x)``` and an input value ```x```. We compute the value of the function for the given input to compute ```y = f(x)```.\n",
    "\n",
    "* But in Machine Learning, we are given a datset that contains a lot of entries of ```y```, corresponding to each given ```x```.\n",
    "Our job is to create a function ```f(x)``` that closely matches the examples given <b>AND</b> makes useable predictions on new values of ```x``` that it has not seen before. This is how we use Machine Learning to make predictions! "
   ]
  },
  {
   "cell_type": "markdown",
   "metadata": {},
   "source": [
    "What I just explained, is Machine Learning in very basic, layman terms. Now, I'll try to familiarise you with some jargon that we will use quite frequently, going forward:\n",
    "* The variable ```x``` is a known as a feature that is used to predict values of ```y```. It is also known as an independant variable because it does not depend on any other variable. A given dataset might have multiple features that we can use to predict the value of ```y```.\n",
    "* The variable ```y``` is the label column that is to be predicted. It is also known as the dependant variable, for obvious reasons. There can be multiple ```y``` labels in a dataset and they might also be either continuous ```(Regression)``` or categorical ```(Classification)```.\n",
    "* ```Regression and Classification``` are the two main types of problems in Machine Learning, and that is dependant upon the nature of the dependant variable ```y```.\n",
    "* The function ```f(x)``` that we create to predict ```y``` as accurately as possible, is known as a ```Hypothesis```. In machine learning, all we have to really do, is find the best hypothesis function for the given dataset. \n",
    "* The given dataset is usually split into training and testing sets. It is trained on the training set and we optimize our model performance by checking how well it does on the test set. \n",
    "* And now, in the final point above, I have talked about making predictions on never before seen data; this process of taking our model from the train set to unseen data, is known as ```Generalization```. \n",
    "* For any model, we want it to generalize well so that it can make good predictions."
   ]
  },
  {
   "cell_type": "markdown",
   "metadata": {},
   "source": [
    "## Now, we'll talk about the most basic model in Machine Learning, ```Linear Regression```.\n",
    "* Lets say we have a dataset that has only 2 columns, Population and Profit. And our job is to predict the Profit based on the Population. \n",
    "\n"
   ]
  },
  {
   "cell_type": "markdown",
   "metadata": {},
   "source": [
    "![](images/ScatterplotLR.jpeg)"
   ]
  },
  {
   "cell_type": "markdown",
   "metadata": {},
   "source": [
    "* To calculate the best hypothesis, we need to find a straight line passing through the data that fits it best. \n",
    "* And here, we can see with our eyes that a straight line might fir this data well enough"
   ]
  },
  {
   "cell_type": "markdown",
   "metadata": {},
   "source": [
    "Now, we dive into the mathematcs of Linear Regression here:\n",
    "* We have to predict the value of y, given the training data.\n",
    "* So, we have ```y = w * x + b```\n",
    "* Where ```w``` is the slope of the line, which in Machine Learning terms is called the ```Weight```.\n",
    "* Where ```b``` is the y-intercept of the line, which in Machine Learning terms is called the ```Bias```.\n",
    "* Hence, we have our hypothesis, ```a linear combination of x```.\n",
    "* ```w and b``` are called the parameters of Linear Regression and these are the values that we have to find, in order to get the best result.\n",
    "* Traditionally, we initialize it to ```0```, and check how well our model performs."
   ]
  },
  {
   "cell_type": "markdown",
   "metadata": {},
   "source": [
    "![Title](images/BaseLineLR.jpeg)"
   ]
  },
  {
   "cell_type": "markdown",
   "metadata": {},
   "source": [
    "MSE Loss for base model: 64.15"
   ]
  },
  {
   "cell_type": "markdown",
   "metadata": {},
   "source": [
    "## Evaluating our model:\n",
    "* We can evaluate our model performance by seeing how far the data points are, from the predicted Regression line. \n",
    "* This is known as computing the loss (also known as the cost) of our model. \n",
    "* There are a bunch of formulae we can use to compute this: \n",
    "    * Sum of Errors\n",
    "    * Absolute Sum of Errors\n",
    "    * Sum of Squared Errors\n",
    "    * Mean Squared Error\n",
    "    * Many more...\n",
    "* So, every loss function is a combination of the difference between the true and predicted value (where the predicted value is a function of the weight and bias assumed initially)."
   ]
  },
  {
   "cell_type": "markdown",
   "metadata": {},
   "source": [
    "## Training our model:\n",
    "* Now that we have an initial approximation for the model and we have our loss function ready, we can start \"Learning\" the function. \n",
    "* Our goal is to minimise the loss function, in order to make our predictions better and our model more robust. \n",
    "* To do that, we take the derivative of the loss function and equate it to zero to get the minimal value of loss function. \n",
    "* But, our loss function has 2 variables in it, hence we take the partial derivative w.r.t both to get the minima. \n",
    "* This process is known as ```Stochastic Gradient Descent``` and is one of the most important concepts in the entirety of Machine Learning. \n",
    "* We now use the formula for Gradient descent to update the values of ```w and b``` in order to propogate towards the minima of the loss function. \n",
    "* Formula for gradient descent: <br><br>\n",
    "![Hello](images/Gradient%20Descent%20Formula.png)\n",
    "<br><br>\n",
    "* Where theta in our case are the parameters, ```w and b```, and ```J``` is the loss function\n",
    "* Here, alpha is the learning rate which decides how fast we move towards the gradient. This is known as a ```hyperparameter```. \n",
    "* A hyperparameter in Machine Learning, is a value we can tweak in order to find the value of the parameters. "
   ]
  },
  {
   "cell_type": "markdown",
   "metadata": {},
   "source": [
    "## Final model after training:\n",
    "\n",
    "![Model](images/best_fit_line.jpeg)"
   ]
  },
  {
   "cell_type": "markdown",
   "metadata": {},
   "source": [
    "* MSE Loss for our final model: 5.20\n",
    "* We can clearly see that this line fits the data much better than our base line."
   ]
  },
  {
   "cell_type": "markdown",
   "metadata": {},
   "source": [
    "This is how Linear Regression works, visually. Now, let's see how to code it using a library called Sci-KitLearn, which handles all of the heavy math for us. So we can focus and building better models and not waste time debugging code everytime we want to write a new model. "
   ]
  },
  {
   "cell_type": "code",
   "execution_count": 1,
   "metadata": {},
   "outputs": [
    {
     "data": {
      "text/html": [
       "<div>\n",
       "<style scoped>\n",
       "    .dataframe tbody tr th:only-of-type {\n",
       "        vertical-align: middle;\n",
       "    }\n",
       "\n",
       "    .dataframe tbody tr th {\n",
       "        vertical-align: top;\n",
       "    }\n",
       "\n",
       "    .dataframe thead th {\n",
       "        text-align: right;\n",
       "    }\n",
       "</style>\n",
       "<table border=\"1\" class=\"dataframe\">\n",
       "  <thead>\n",
       "    <tr style=\"text-align: right;\">\n",
       "      <th></th>\n",
       "      <th>Population</th>\n",
       "      <th>Profit</th>\n",
       "    </tr>\n",
       "  </thead>\n",
       "  <tbody>\n",
       "    <tr>\n",
       "      <th>0</th>\n",
       "      <td>6.1101</td>\n",
       "      <td>17.5920</td>\n",
       "    </tr>\n",
       "    <tr>\n",
       "      <th>1</th>\n",
       "      <td>5.5277</td>\n",
       "      <td>9.1302</td>\n",
       "    </tr>\n",
       "    <tr>\n",
       "      <th>2</th>\n",
       "      <td>8.5186</td>\n",
       "      <td>13.6620</td>\n",
       "    </tr>\n",
       "    <tr>\n",
       "      <th>3</th>\n",
       "      <td>7.0032</td>\n",
       "      <td>11.8540</td>\n",
       "    </tr>\n",
       "    <tr>\n",
       "      <th>4</th>\n",
       "      <td>5.8598</td>\n",
       "      <td>6.8233</td>\n",
       "    </tr>\n",
       "  </tbody>\n",
       "</table>\n",
       "</div>"
      ],
      "text/plain": [
       "   Population   Profit\n",
       "0      6.1101  17.5920\n",
       "1      5.5277   9.1302\n",
       "2      8.5186  13.6620\n",
       "3      7.0032  11.8540\n",
       "4      5.8598   6.8233"
      ]
     },
     "execution_count": 1,
     "metadata": {},
     "output_type": "execute_result"
    }
   ],
   "source": [
    "import pandas as pd\n",
    "import numpy as np\n",
    "\n",
    "df = pd.read_csv(r'datasets/food_truck_data_works.csv') \n",
    "# This is a DataFrame, the core data structure of pandas library and the best way to store tabular data. \n",
    "\n",
    "x_train, y_train = np.array(df.iloc[:, 0]), np.array(df.iloc[:, 1])\n",
    "x_train = np.reshape(x_train, (-1, 1))\n",
    "y_train = np.reshape(y_train, (-1, 1))\n",
    "\n",
    "df.head() # Prints the first 5 rows of the dataframe."
   ]
  },
  {
   "cell_type": "code",
   "execution_count": 2,
   "metadata": {},
   "outputs": [
    {
     "name": "stdout",
     "output_type": "stream",
     "text": [
      "Mean Squared Error using Linear Regression for the given dataset is: 8.953942751950356\n"
     ]
    }
   ],
   "source": [
    "from sklearn.linear_model import LinearRegression\n",
    "from sklearn.metrics import mean_squared_error\n",
    "\n",
    "reg = LinearRegression()\n",
    "reg.fit(x_train, y_train)\n",
    "y_pred = reg.predict(x_train)\n",
    "\n",
    "mse = mean_squared_error(y_train, y_pred)\n",
    "\n",
    "\n",
    "print(f'Mean Squared Error using Linear Regression for the given dataset is: {mse}')"
   ]
  },
  {
   "cell_type": "markdown",
   "metadata": {},
   "source": [
    "## Going from ```Linear Regression``` to ```Logistic Regression```"
   ]
  },
  {
   "cell_type": "markdown",
   "metadata": {},
   "source": [
    "* Linear Regression is a model that predicts future values for continuous varibales. \n",
    "* But what if we want to classify things into 2 classes? Say Cat or Dog, Car vs Bike and much much more. \n",
    "* For this, we use a technique called ```Logistic Regression```. \n",
    " \n",
    "* In logistic Regression, we just do 1 extra step than Linear Regression, i.e, converting the output of regression into a bunch of probablities for the number of classes that we are trying to classify in. \n",
    "\n",
    "* For example, if we are predicting whether to approve a bank loan, based on attributes such as the applicants credit score, salary and more, we have 2 possible outputs: <b>```YES```</b> or <b>```NO```</b>\n",
    "* The additional step here, is to convert the real valued regression output to 2 probabilites, the probability of YES and the probability of NO. Whichever is greater, is selected as the prediction. \n",
    "\n",
    "* The other difference in Logistic Regression comes in the loss function. \n",
    "* We can use a simple Mean Squared Error loss here as the output is just 1 (YES) or 0 (NO) because we dont have to compare probabilities, we have to compare the binary loss. \n",
    "* So, we use the log-loss function to obtain this. \n",
    "\n",
    "![log-loss-function](images/log_loss.png)\n",
    "\n",
    "Let's look at the graph of the log-loss function to gain a better understanding of how it works.\n",
    "\n",
    "![log-loss-graph](images/log_loss_graph.png)"
   ]
  },
  {
   "cell_type": "markdown",
   "metadata": {},
   "source": [
    "* Once again, we take the derivative of this log function w.r.t our 2 parameters ```w and b``` to update their values using the concept of Gradient Descent. "
   ]
  },
  {
   "cell_type": "markdown",
   "metadata": {},
   "source": [
    "## Types of Gradient Descent\n",
    "### There are 3 main ways of performing gradient descent:\n",
    "1. Batch Gradient Descent\n",
    "2. Mini-batch Gradient Descent \n",
    "3. Stochastic Gradient Descent\n",
    "\n",
    "* And, Gradient Descent also depends on 1 other thing: The value we choose to initialise our parameters with. \n",
    "* In the Linear Regression Graph, we initialised ```w and b``` to be 0, and then updated their values after each iteration. \n",
    "* This works well enough for us, but in most complex cases, we initialize them randomly, rather than to zero, to reach the minimar faster."
   ]
  },
  {
   "cell_type": "markdown",
   "metadata": {},
   "source": [
    "## Finally, lets see how Logistic Regression works in code."
   ]
  },
  {
   "cell_type": "code",
   "execution_count": 3,
   "metadata": {},
   "outputs": [],
   "source": [
    "import numpy as np\n",
    "import matplotlib.pyplot as plt\n",
    "\n",
    "from sklearn.datasets import make_classification\n",
    "data = make_classification(n_features=2, n_informative=2, n_redundant=0, n_repeated=0, random_state=45)\n",
    "x_train = data[0]\n",
    "y_train = data[1]"
   ]
  },
  {
   "cell_type": "code",
   "execution_count": 4,
   "metadata": {},
   "outputs": [
    {
     "name": "stdout",
     "output_type": "stream",
     "text": [
      "[1 0 0 0 1 0 1 0 0 0 0 0 0 0 0 1 1 1 1 0 0 1 0 0 1 1 1 0 0 0 1 0 0 1 1 1 1\n",
      " 1 1 1 0 1 1 0 1 1 1 0 1 0 1 0 0 1 0 1 0 1 0 1 1 1 0 1 0 0 1 1 1 1 1 1 1 1\n",
      " 0 0 0 1 1 0 1 0 0 1 0 1 0 0 1 0 0 1 0 1 0 0 0 0 0 1]\n"
     ]
    }
   ],
   "source": [
    "print(y_train)"
   ]
  },
  {
   "cell_type": "markdown",
   "metadata": {},
   "source": [
    "![logistic-regression-data](images/linearly_sep_data.jpeg)"
   ]
  },
  {
   "cell_type": "code",
   "execution_count": 5,
   "metadata": {},
   "outputs": [
    {
     "name": "stdout",
     "output_type": "stream",
     "text": [
      "Accuracy score for the dataset using Logistic Regression is: 0.93\n"
     ]
    }
   ],
   "source": [
    "from sklearn.linear_model import LogisticRegression\n",
    "clf = LogisticRegression()\n",
    "clf.fit(x_train, y_train)\n",
    "accuracy = clf.score(x_train, y_train)\n",
    "\n",
    "print(f'Accuracy score for the dataset using Logistic Regression is: {accuracy}')"
   ]
  },
  {
   "cell_type": "markdown",
   "metadata": {},
   "source": [
    "* We have used a linear separator for the 2 classes. \n",
    "* The final split of the dataset is as follows:\n",
    "\n",
    "![logistic-regression-sep](images/logistic-regression-soln.jpeg)"
   ]
  },
  {
   "cell_type": "markdown",
   "metadata": {},
   "source": [
    "## To conclude (and introduce some more jargon):\n",
    "\n",
    "\n",
    "## The Perceptron\n",
    "![single-perceptron](images/perceptron.png)\n",
    "\n",
    "* This is known as a single Perceptron or Neuron or even a Logit. This was created by Frank Rosenblatt in 1958.\n",
    "* But, this just represents the firt half of our model - ```The Forward Pass```. \n",
    "* You can see that we are not updating the values of our parameters here using Gradient Descent. That is known as The Backward Pass.\n",
    "\n",
    "## The Backward Pass\n",
    "\n",
    "![backward-pass](images/forward-backward-pass.png)\n",
    "\n",
    "* When we take a bunch of neurons together, and apply them to a dataset, we create a complete Neural Network!!\n",
    "* And the backward pass is where the real magic of the Neural Network is. \n",
    "* A neural network consists of 1 input layer, 1 output layer, and multiple hidden layers in between.\n",
    "\n",
    "## A fully complete Neural Network (A.K.A Artifical Neural Network)\n",
    "\n",
    "![neural-network](images/neural-network-small.jpeg)"
   ]
  },
  {
   "cell_type": "markdown",
   "metadata": {},
   "source": [
    "# MNIST using ANNs"
   ]
  },
  {
   "cell_type": "markdown",
   "metadata": {},
   "source": [
    "## Importing MNIST + a little history"
   ]
  },
  {
   "cell_type": "markdown",
   "metadata": {},
   "source": [
    "* MNIST consists of black & white images of 28 x 28 pixels each and a total of <b>70,000 images</b> (60,000 for training and 10,000 for testing).\n",
    "* It was created by Yann LeCunn in 1988.\n",
    "* It consists of digits from 0 - 9 taken from the US Postal Service. \n",
    "* It is known as the 'Hello World' into Deep Learning as most practitioners begin with the MNIST dataset.  "
   ]
  },
  {
   "cell_type": "markdown",
   "metadata": {},
   "source": [
    "* The tensorflow library has a bunch of datasets built-in that we can directly call in our code. \n",
    "* They don't need to be downloaded externally from another source.\n",
    "\n",
    "* We can check the <a href = \"https://www.tensorflow.org/api_docs/python/tf/keras/datasets\">tf.keras.datasets</a> library to know more about the different datasets available."
   ]
  },
  {
   "cell_type": "code",
   "execution_count": 6,
   "metadata": {},
   "outputs": [
    {
     "ename": "NameError",
     "evalue": "name 'tf' is not defined",
     "output_type": "error",
     "traceback": [
      "\u001b[1;31m---------------------------------------------------------------------------\u001b[0m",
      "\u001b[1;31mNameError\u001b[0m                                 Traceback (most recent call last)",
      "\u001b[1;32mc:\\Users\\Harsh Shetye\\Desktop\\harsh1\\ML-Workshop-S4DS\\MNIST.ipynb Cell 33'\u001b[0m in \u001b[0;36m<cell line: 3>\u001b[1;34m()\u001b[0m\n\u001b[0;32m      <a href='vscode-notebook-cell:/c%3A/Users/Harsh%20Shetye/Desktop/harsh1/ML-Workshop-S4DS/MNIST.ipynb#ch0000032?line=0'>1</a>\u001b[0m \u001b[39mimport\u001b[39;00m \u001b[39mnumpy\u001b[39;00m \u001b[39mas\u001b[39;00m \u001b[39mnp\u001b[39;00m\n\u001b[1;32m----> <a href='vscode-notebook-cell:/c%3A/Users/Harsh%20Shetye/Desktop/harsh1/ML-Workshop-S4DS/MNIST.ipynb#ch0000032?line=2'>3</a>\u001b[0m MNIST \u001b[39m=\u001b[39m tf\u001b[39m.\u001b[39mkeras\u001b[39m.\u001b[39mdatasets\u001b[39m.\u001b[39mmnist\n\u001b[0;32m      <a href='vscode-notebook-cell:/c%3A/Users/Harsh%20Shetye/Desktop/harsh1/ML-Workshop-S4DS/MNIST.ipynb#ch0000032?line=4'>5</a>\u001b[0m \u001b[39m# check documentation on tf.keras.datasets.mnist to know about how to load the dataset. \u001b[39;00m\n\u001b[0;32m      <a href='vscode-notebook-cell:/c%3A/Users/Harsh%20Shetye/Desktop/harsh1/ML-Workshop-S4DS/MNIST.ipynb#ch0000032?line=6'>7</a>\u001b[0m (x_train, y_train), (x_test, y_test) \u001b[39m=\u001b[39m MNIST\u001b[39m.\u001b[39mload_data()\n",
      "\u001b[1;31mNameError\u001b[0m: name 'tf' is not defined"
     ]
    }
   ],
   "source": [
    "import numpy as np\n",
    "import tensorflow as tf\n",
    "\n",
    "MNIST = tf.keras.datasets.mnist\n",
    "\n",
    "# check documentation on tf.keras.datasets.mnist to know about how to load the dataset. \n",
    "\n",
    "(x_train, y_train), (x_test, y_test) = MNIST.load_data()\n",
    "\n",
    "# The x_train and x_test variables contain the actual pixel values for all 784 pixels in each image.\n",
    "# While the y_train and y_test variables contain the corresponding digit from 0 - 9. \n",
    "\n",
    "print(f'Shape of x_train: {x_train.shape}')\n",
    "print(f'Shape of y_train: {y_train.shape}')\n",
    "print(f'Shape of x_test: {x_test.shape}')\n",
    "print(f'Shape of y_test: {y_test.shape}')"
   ]
  },
  {
   "cell_type": "markdown",
   "metadata": {},
   "source": [
    "## Data Visualization"
   ]
  },
  {
   "cell_type": "markdown",
   "metadata": {},
   "source": [
    "As we can see, the dataset is in the form of numpy arrays. Let us see what happens when we print a single 28 x 28 (2-d) array."
   ]
  },
  {
   "cell_type": "code",
   "execution_count": null,
   "metadata": {},
   "outputs": [
    {
     "data": {
      "text/plain": [
       "array([[  0,   0,   0,   0,   0,   0,   0,   0,   0,   0,   0,   0,   0,\n",
       "          0,   0,   0,   0,   0,   0,   0,   0,   0,   0,   0,   0,   0,\n",
       "          0,   0],\n",
       "       [  0,   0,   0,   0,   0,   0,   0,   0,   0,   0,   0,   0,   0,\n",
       "          0,   0,   0,   0,   0,   0,   0,   0,   0,   0,   0,   0,   0,\n",
       "          0,   0],\n",
       "       [  0,   0,   0,   0,   0,   0,   0,   0,   0,   0,   0,   0,   0,\n",
       "          0,   0,   0,   0,   0,   0,   0,   0,   0,   0,   0,   0,   0,\n",
       "          0,   0],\n",
       "       [  0,   0,   0,   0,   0,   0,   0,   0,   0,   0,   0,   0,   0,\n",
       "          0,   0,   0,   0,   0,   0,   0,   0,   0,   0,   0,   0,   0,\n",
       "          0,   0],\n",
       "       [  0,   0,   0,   0,   0,   0,   0,   0,   0,   0,   0,   0,   0,\n",
       "          0,   0,   0,   0,   0,   0,   0,   0,   0,   0,   0,   0,   0,\n",
       "          0,   0],\n",
       "       [  0,   0,   0,   0,   0,   0,   0,   0,   0,   0,   0,   0,   3,\n",
       "         18,  18,  18, 126, 136, 175,  26, 166, 255, 247, 127,   0,   0,\n",
       "          0,   0],\n",
       "       [  0,   0,   0,   0,   0,   0,   0,   0,  30,  36,  94, 154, 170,\n",
       "        253, 253, 253, 253, 253, 225, 172, 253, 242, 195,  64,   0,   0,\n",
       "          0,   0],\n",
       "       [  0,   0,   0,   0,   0,   0,   0,  49, 238, 253, 253, 253, 253,\n",
       "        253, 253, 253, 253, 251,  93,  82,  82,  56,  39,   0,   0,   0,\n",
       "          0,   0],\n",
       "       [  0,   0,   0,   0,   0,   0,   0,  18, 219, 253, 253, 253, 253,\n",
       "        253, 198, 182, 247, 241,   0,   0,   0,   0,   0,   0,   0,   0,\n",
       "          0,   0],\n",
       "       [  0,   0,   0,   0,   0,   0,   0,   0,  80, 156, 107, 253, 253,\n",
       "        205,  11,   0,  43, 154,   0,   0,   0,   0,   0,   0,   0,   0,\n",
       "          0,   0],\n",
       "       [  0,   0,   0,   0,   0,   0,   0,   0,   0,  14,   1, 154, 253,\n",
       "         90,   0,   0,   0,   0,   0,   0,   0,   0,   0,   0,   0,   0,\n",
       "          0,   0],\n",
       "       [  0,   0,   0,   0,   0,   0,   0,   0,   0,   0,   0, 139, 253,\n",
       "        190,   2,   0,   0,   0,   0,   0,   0,   0,   0,   0,   0,   0,\n",
       "          0,   0],\n",
       "       [  0,   0,   0,   0,   0,   0,   0,   0,   0,   0,   0,  11, 190,\n",
       "        253,  70,   0,   0,   0,   0,   0,   0,   0,   0,   0,   0,   0,\n",
       "          0,   0],\n",
       "       [  0,   0,   0,   0,   0,   0,   0,   0,   0,   0,   0,   0,  35,\n",
       "        241, 225, 160, 108,   1,   0,   0,   0,   0,   0,   0,   0,   0,\n",
       "          0,   0],\n",
       "       [  0,   0,   0,   0,   0,   0,   0,   0,   0,   0,   0,   0,   0,\n",
       "         81, 240, 253, 253, 119,  25,   0,   0,   0,   0,   0,   0,   0,\n",
       "          0,   0],\n",
       "       [  0,   0,   0,   0,   0,   0,   0,   0,   0,   0,   0,   0,   0,\n",
       "          0,  45, 186, 253, 253, 150,  27,   0,   0,   0,   0,   0,   0,\n",
       "          0,   0],\n",
       "       [  0,   0,   0,   0,   0,   0,   0,   0,   0,   0,   0,   0,   0,\n",
       "          0,   0,  16,  93, 252, 253, 187,   0,   0,   0,   0,   0,   0,\n",
       "          0,   0],\n",
       "       [  0,   0,   0,   0,   0,   0,   0,   0,   0,   0,   0,   0,   0,\n",
       "          0,   0,   0,   0, 249, 253, 249,  64,   0,   0,   0,   0,   0,\n",
       "          0,   0],\n",
       "       [  0,   0,   0,   0,   0,   0,   0,   0,   0,   0,   0,   0,   0,\n",
       "          0,  46, 130, 183, 253, 253, 207,   2,   0,   0,   0,   0,   0,\n",
       "          0,   0],\n",
       "       [  0,   0,   0,   0,   0,   0,   0,   0,   0,   0,   0,   0,  39,\n",
       "        148, 229, 253, 253, 253, 250, 182,   0,   0,   0,   0,   0,   0,\n",
       "          0,   0],\n",
       "       [  0,   0,   0,   0,   0,   0,   0,   0,   0,   0,  24, 114, 221,\n",
       "        253, 253, 253, 253, 201,  78,   0,   0,   0,   0,   0,   0,   0,\n",
       "          0,   0],\n",
       "       [  0,   0,   0,   0,   0,   0,   0,   0,  23,  66, 213, 253, 253,\n",
       "        253, 253, 198,  81,   2,   0,   0,   0,   0,   0,   0,   0,   0,\n",
       "          0,   0],\n",
       "       [  0,   0,   0,   0,   0,   0,  18, 171, 219, 253, 253, 253, 253,\n",
       "        195,  80,   9,   0,   0,   0,   0,   0,   0,   0,   0,   0,   0,\n",
       "          0,   0],\n",
       "       [  0,   0,   0,   0,  55, 172, 226, 253, 253, 253, 253, 244, 133,\n",
       "         11,   0,   0,   0,   0,   0,   0,   0,   0,   0,   0,   0,   0,\n",
       "          0,   0],\n",
       "       [  0,   0,   0,   0, 136, 253, 253, 253, 212, 135, 132,  16,   0,\n",
       "          0,   0,   0,   0,   0,   0,   0,   0,   0,   0,   0,   0,   0,\n",
       "          0,   0],\n",
       "       [  0,   0,   0,   0,   0,   0,   0,   0,   0,   0,   0,   0,   0,\n",
       "          0,   0,   0,   0,   0,   0,   0,   0,   0,   0,   0,   0,   0,\n",
       "          0,   0],\n",
       "       [  0,   0,   0,   0,   0,   0,   0,   0,   0,   0,   0,   0,   0,\n",
       "          0,   0,   0,   0,   0,   0,   0,   0,   0,   0,   0,   0,   0,\n",
       "          0,   0],\n",
       "       [  0,   0,   0,   0,   0,   0,   0,   0,   0,   0,   0,   0,   0,\n",
       "          0,   0,   0,   0,   0,   0,   0,   0,   0,   0,   0,   0,   0,\n",
       "          0,   0]], dtype=uint8)"
      ]
     },
     "execution_count": 11,
     "metadata": {},
     "output_type": "execute_result"
    }
   ],
   "source": [
    "x_train[0]"
   ]
  },
  {
   "cell_type": "markdown",
   "metadata": {},
   "source": [
    "* This doesn't look anything like an image though, and we know that MNIST dataset consists of images of numbers from 0 - 9. \n",
    "\n",
    "* To plot these images, we will use the matplotlib library, which allows us to convert arrays of pixel values like above, into images that we can infer from easily."
   ]
  },
  {
   "cell_type": "markdown",
   "metadata": {},
   "source": [
    "Visualizing the dataset by plotting 6 random images"
   ]
  },
  {
   "cell_type": "code",
   "execution_count": null,
   "metadata": {},
   "outputs": [
    {
     "data": {
      "image/png": "[encoded data removed]",
      "text/plain": [
       "<Figure size 1296x864 with 6 Axes>"
      ]
     },
     "metadata": {
      "needs_background": "light"
     },
     "output_type": "display_data"
    }
   ],
   "source": [
    "import matplotlib.pyplot as plt\n",
    "\n",
    "fig, ax = plt.subplots(2, 3, figsize=(18, 12))\n",
    "\n",
    "for i in range(2):\n",
    "    for j in range(3):\n",
    "        index = np.random.randint(0, 60000)\n",
    "        ax[i, j].imshow(x_train[index], cmap='gray')\n",
    "        ax[i, j].set_title(f'True Label: {y_train[index]}', fontsize=16)\n",
    "        index += 1\n",
    "\n",
    "plt.suptitle('Visualising the dataset', fontsize=24)\n",
    "plt.show()"
   ]
  },
  {
   "cell_type": "markdown",
   "metadata": {},
   "source": [
    "* Here, we visualized the dataset by plotting their images using the <b>matplotlib</b> library. \n",
    "\n",
    "* The imshow() function converts the numpy arrays that the images originally are, into their correct pixel values and creates their images."
   ]
  },
  {
   "cell_type": "markdown",
   "metadata": {},
   "source": [
    "## Data Transformation"
   ]
  },
  {
   "cell_type": "markdown",
   "metadata": {},
   "source": [
    "* Now, we saw above while printing the numpy array that each image consists of pixel values from 0 - 255. And as we learned at the start of this workshop in Simple Linear Regression, bigger values skew the results towards their side even though they might not necessarily be more important. \n",
    "\n",
    "* For example, in a 28 x 28 image of a digit, the black pixels surrounding the number are also just as important as the white pixels that make-up the number.\n",
    "\n",
    "* So, to counter this, we transform our data from pixel values of 0-255, to pixel values scaled down to 0-1. "
   ]
  },
  {
   "cell_type": "code",
   "execution_count": null,
   "metadata": {},
   "outputs": [],
   "source": [
    "x_train, x_test = x_train / 255.0, x_test / 255.0"
   ]
  },
  {
   "cell_type": "markdown",
   "metadata": {},
   "source": [
    "## Model Building"
   ]
  },
  {
   "cell_type": "markdown",
   "metadata": {},
   "source": [
    "* Now comes the most exciting part of the entire ML journey...drumroll🥁... Building the ANN Model !!"
   ]
  },
  {
   "cell_type": "markdown",
   "metadata": {},
   "source": [
    "* First, let's get over the jargon and syntax essential to build a model using tensorflow.\n",
    "\n",
    "* As we can see, building a deep learning model using tensorflow is not coding heavy at all. \n",
    "\n",
    "* Infact, this is the simplest way to build a deep learning network and the best way to begin with. \n",
    "\n",
    "* We initialise the Sequential() model class from tensorflow which uses keras as it's backend. The Sequential() API allows us to add layers one after the other in a very intuitive way. \n",
    "\n",
    "* Using the Sequential() model, we don't need to create any Data Loaders, Batch Loaders, we don't need to create different classes and functions for each Dense/Dropout layers. \n",
    "\n",
    "* We can add new layers in the model by just using the model.add(layer) function.\n",
    "\n",
    "* Tensorflow takes care of it all for us. "
   ]
  },
  {
   "cell_type": "markdown",
   "metadata": {},
   "source": [
    "* Now, the layers in a Neural Network consist of the following: <b>[JARGON ALERT]</b>\n",
    "\n",
    "    * Flatten() - The Flatten() layer converts the 28 x 28, 2-dimensional input into a 784-length vector. \n",
    "\n",
    "    * Dense() - This is essentially the multi-layered perceptron we talked about. We can adjust the number of neurons/perceptrons in each Dense layer. For simplicity, I have just kept them as 64 neurons for both Dense() layers.\n",
    "    \n",
    "    * Dropout() - Randomly drops a given percentage of neuron values to ensure uniformity and curb overfitting. "
   ]
  },
  {
   "cell_type": "code",
   "execution_count": null,
   "metadata": {},
   "outputs": [],
   "source": [
    "import tensorflow as tf\n",
    "\n",
    "from tensorflow.keras.models import Sequential\n",
    "from tensorflow.keras.layers import Dense, Flatten, Dropout\n",
    "\n",
    "\n",
    "model = Sequential()\n",
    "model.add(Flatten(input_shape = x_train[0].shape))\n",
    "model.add(Dense(64, activation='sigmoid'))\n",
    "model.add(Dropout(0.2))\n",
    "model.add(Dense(64, activation='sigmoid'))\n",
    "model.add(Dropout(0.2)) \n",
    "model.add(Dense(10, activation='softmax'))"
   ]
  },
  {
   "cell_type": "markdown",
   "metadata": {},
   "source": [
    "* By printing out the model summary, we can see the output shape of each layer that acts as an input to the next layer. \n",
    "\n",
    "* We can also see that the output shape for the final layer is 10, which is the number of unique values in our dependant variable Y."
   ]
  },
  {
   "cell_type": "code",
   "execution_count": null,
   "metadata": {},
   "outputs": [
    {
     "name": "stdout",
     "output_type": "stream",
     "text": [
      "Model: \"sequential\"\n",
      "_________________________________________________________________\n",
      "Layer (type)                 Output Shape              Param #   \n",
      "=================================================================\n",
      "flatten (Flatten)            (None, 784)               0         \n",
      "_________________________________________________________________\n",
      "dense (Dense)                (None, 64)                50240     \n",
      "_________________________________________________________________\n",
      "dropout (Dropout)            (None, 64)                0         \n",
      "_________________________________________________________________\n",
      "dense_1 (Dense)              (None, 64)                4160      \n",
      "_________________________________________________________________\n",
      "dropout_1 (Dropout)          (None, 64)                0         \n",
      "_________________________________________________________________\n",
      "dense_2 (Dense)              (None, 10)                650       \n",
      "=================================================================\n",
      "Total params: 55,050\n",
      "Trainable params: 55,050\n",
      "Non-trainable params: 0\n",
      "_________________________________________________________________\n"
     ]
    }
   ],
   "source": [
    "model.summary()"
   ]
  },
  {
   "cell_type": "markdown",
   "metadata": {},
   "source": [
    "* The total number of paramenters (that is the number of different weights and biases) are 55,000. Thought this might look like a huge number, this is miniscule compared to the Billions of parameters that State of the Art models are trained on. \n",
    "\n",
    "* Those models require tremendous computational power to train and are genreally trained on supercomputers connected to multiple GPUs at a time. \n",
    "\n",
    "* This requirement for huge computational power and longer training periods is what drives the cost for newer better State of the Art models to go up considerably. "
   ]
  },
  {
   "cell_type": "markdown",
   "metadata": {},
   "source": [
    "## Compiling and training the model"
   ]
  },
  {
   "cell_type": "markdown",
   "metadata": {},
   "source": [
    "* Next, we compile and fit the data to the model created. \n",
    "\n",
    "* All of this just takes 2 lines of codes and nothing more!! That seems mind blowing to me till this day 🤯"
   ]
  },
  {
   "cell_type": "markdown",
   "metadata": {},
   "source": [
    "* Explaining the optimizers and loss functions: <b>[JARGON ALERT]</b>\n",
    "\n",
    "    * Loss function: What does ```sparse_categorical_crossentropy``` mean? \n",
    "        * Once again, we will simply refer the tensorflow documentation for this. Link <a href = \"https://www.tensorflow.org/api_docs/python/tf/keras/losses/SparseCategoricalCrossentropy\">here.</a>\n",
    "\n",
    "        * We use this loss function when we are doing multi-label classification (2 or more label classes). We have 10 in our case, 0-9. \n",
    "\n",
    "        * For labels that are in a one-hot-encoded format, we use the ```CategoricalCrossentropy``` loss function. To know more about, one-hot-encoding, Link <a href = \"https://www.educative.io/blog/one-hot-encoding\">here.</a>\n",
    "\n",
    "    * Optimizer: \n",
    "        * As explained above in Simple Linear Regression, we optimize our parameters (weights and biases) using a method called Gradient Descent. \n",
    "\n",
    "        * The different hyperparameters in the Gradient Descenet Algorithm include the learning rate and methods on how to initialise the weights and bias. \n",
    "\n",
    "        * This is where the ```Adam``` optimizer comes in - It has pre-defined values for learning rate and other hyperparameters which work well enough for our case!\n",
    "\n",
    "        * More on the ```Adam``` optimizer can be found <a href = \"https://www.tensorflow.org/api_docs/python/tf/keras/optimizers/Adam\">here.</a>"
   ]
  },
  {
   "cell_type": "code",
   "execution_count": null,
   "metadata": {},
   "outputs": [
    {
     "name": "stdout",
     "output_type": "stream",
     "text": [
      "Epoch 1/20\n",
      "1875/1875 [==============================] - 14s 4ms/step - loss: 0.6947 - accuracy: 0.8006 - val_loss: 0.2736 - val_accuracy: 0.9208\n",
      "Epoch 2/20\n",
      "1875/1875 [==============================] - 6s 3ms/step - loss: 0.3035 - accuracy: 0.9121 - val_loss: 0.2003 - val_accuracy: 0.9384\n",
      "Epoch 3/20\n",
      "1875/1875 [==============================] - 7s 4ms/step - loss: 0.2437 - accuracy: 0.9287 - val_loss: 0.1692 - val_accuracy: 0.9489\n",
      "Epoch 4/20\n",
      "1875/1875 [==============================] - 7s 4ms/step - loss: 0.2099 - accuracy: 0.9380 - val_loss: 0.1497 - val_accuracy: 0.9547\n",
      "Epoch 5/20\n",
      "1875/1875 [==============================] - 8s 4ms/step - loss: 0.1872 - accuracy: 0.9442 - val_loss: 0.1332 - val_accuracy: 0.9601\n",
      "Epoch 6/20\n",
      "1875/1875 [==============================] - 8s 4ms/step - loss: 0.1706 - accuracy: 0.9491 - val_loss: 0.1249 - val_accuracy: 0.9624\n",
      "Epoch 7/20\n",
      "1875/1875 [==============================] - 6s 3ms/step - loss: 0.1588 - accuracy: 0.9526 - val_loss: 0.1171 - val_accuracy: 0.9642\n",
      "Epoch 8/20\n",
      "1875/1875 [==============================] - 7s 4ms/step - loss: 0.1485 - accuracy: 0.9547 - val_loss: 0.1112 - val_accuracy: 0.9659\n",
      "Epoch 9/20\n",
      "1875/1875 [==============================] - 8s 4ms/step - loss: 0.1368 - accuracy: 0.9591 - val_loss: 0.1079 - val_accuracy: 0.9650\n",
      "Epoch 10/20\n",
      "1875/1875 [==============================] - 8s 4ms/step - loss: 0.1301 - accuracy: 0.9608 - val_loss: 0.1023 - val_accuracy: 0.9680\n",
      "Epoch 11/20\n",
      "1875/1875 [==============================] - 9s 5ms/step - loss: 0.1267 - accuracy: 0.9615 - val_loss: 0.1044 - val_accuracy: 0.9678\n",
      "Epoch 12/20\n",
      "1875/1875 [==============================] - 7s 4ms/step - loss: 0.1195 - accuracy: 0.9636 - val_loss: 0.0980 - val_accuracy: 0.9695\n",
      "Epoch 13/20\n",
      "1875/1875 [==============================] - 7s 4ms/step - loss: 0.1148 - accuracy: 0.9646 - val_loss: 0.0963 - val_accuracy: 0.9702\n",
      "Epoch 14/20\n",
      "1875/1875 [==============================] - 7s 4ms/step - loss: 0.1118 - accuracy: 0.9659 - val_loss: 0.0934 - val_accuracy: 0.9717\n",
      "Epoch 15/20\n",
      "1875/1875 [==============================] - 7s 4ms/step - loss: 0.1083 - accuracy: 0.9663 - val_loss: 0.0955 - val_accuracy: 0.9710\n",
      "Epoch 16/20\n",
      "1875/1875 [==============================] - 7s 4ms/step - loss: 0.1068 - accuracy: 0.9674 - val_loss: 0.0930 - val_accuracy: 0.9727\n",
      "Epoch 17/20\n",
      "1875/1875 [==============================] - 6s 3ms/step - loss: 0.1016 - accuracy: 0.9688 - val_loss: 0.0894 - val_accuracy: 0.9725\n",
      "Epoch 18/20\n",
      "1875/1875 [==============================] - 6s 3ms/step - loss: 0.0968 - accuracy: 0.9696 - val_loss: 0.0890 - val_accuracy: 0.9741\n",
      "Epoch 19/20\n",
      "1875/1875 [==============================] - 7s 4ms/step - loss: 0.0966 - accuracy: 0.9700 - val_loss: 0.0863 - val_accuracy: 0.9747\n",
      "Epoch 20/20\n",
      "1875/1875 [==============================] - 7s 4ms/step - loss: 0.0917 - accuracy: 0.9707 - val_loss: 0.0873 - val_accuracy: 0.9739\n"
     ]
    }
   ],
   "source": [
    "model.compile(optimizer='Adam', loss='sparse_categorical_crossentropy', metrics=['accuracy'])\n",
    "\n",
    "r = model.fit(x_train, y_train, validation_data=(x_test, y_test), epochs=20)"
   ]
  },
  {
   "cell_type": "markdown",
   "metadata": {},
   "source": [
    "## Viewing misclassified examples"
   ]
  },
  {
   "cell_type": "code",
   "execution_count": null,
   "metadata": {},
   "outputs": [
    {
     "data": {
      "image/png": "[encoded data removed]",
      "text/plain": [
       "<Figure size 1296x864 with 6 Axes>"
      ]
     },
     "metadata": {
      "needs_background": "light"
     },
     "output_type": "display_data"
    }
   ],
   "source": [
    "import random\n",
    "\n",
    "model_predictions = model.predict(x_test).argmax(axis=1)\n",
    "\n",
    "misclassified_examples = np.where(model_predictions != y_test)[0] # Since it returns a tuple containing an array.\n",
    "\n",
    "fig, ax = plt.subplots(2, 3, figsize=(18, 12))\n",
    "\n",
    "for i in range(2):\n",
    "    for j in range(3):\n",
    "        index = random.choice(misclassified_examples)\n",
    "        ax[i, j].imshow(x_test[index], cmap='gray')\n",
    "        ax[i, j].set_title(f'True Label: {y_test[index]} Predicted Label: {model_predictions[index]}', fontsize=16)\n",
    "\n",
    "plt.suptitle('Viewing misclassified examples from the test set', fontsize=24)\n",
    "plt.show()"
   ]
  },
  {
   "cell_type": "markdown",
   "metadata": {},
   "source": [
    "## Saving and Loading Model"
   ]
  },
  {
   "cell_type": "markdown",
   "metadata": {},
   "source": [
    "* Tensorflow also has built-in modules that allow us to freeze the model parameters and save them for future use. "
   ]
  },
  {
   "cell_type": "code",
   "execution_count": null,
   "metadata": {},
   "outputs": [
    {
     "name": "stdout",
     "output_type": "stream",
     "text": [
      "Model: \"sequential\"\n",
      "_________________________________________________________________\n",
      "Layer (type)                 Output Shape              Param #   \n",
      "=================================================================\n",
      "flatten (Flatten)            (None, 784)               0         \n",
      "_________________________________________________________________\n",
      "dense (Dense)                (None, 64)                50240     \n",
      "_________________________________________________________________\n",
      "dropout (Dropout)            (None, 64)                0         \n",
      "_________________________________________________________________\n",
      "dense_1 (Dense)              (None, 64)                4160      \n",
      "_________________________________________________________________\n",
      "dropout_1 (Dropout)          (None, 64)                0         \n",
      "_________________________________________________________________\n",
      "dense_2 (Dense)              (None, 10)                650       \n",
      "=================================================================\n",
      "Total params: 55,050\n",
      "Trainable params: 55,050\n",
      "Non-trainable params: 0\n",
      "_________________________________________________________________\n"
     ]
    }
   ],
   "source": [
    "# Saving and loading the model for future use:\n",
    "\n",
    "from tensorflow.keras.models import load_model\n",
    "\n",
    "model.save('MNIST_ANN.h5')\n",
    "\n",
    "saved_model = load_model('MNIST_ANN.h5')\n",
    "\n",
    "saved_model.summary()"
   ]
  }
 ],
 "metadata": {
  "interpreter": {
   "hash": "46c06c7e7a9f207af8853ff8a06b104ef4cd68bd2d514f2f39ec9885295c06a3"
  },
  "kernelspec": {
   "display_name": "Python 3.10.4 64-bit",
   "language": "python",
   "name": "python3"
  },
  "language_info": {
   "codemirror_mode": {
    "name": "ipython",
    "version": 3
   },
   "file_extension": ".py",
   "mimetype": "text/x-python",
   "name": "python",
   "nbconvert_exporter": "python",
   "pygments_lexer": "ipython3",
   "version": "3.10.4"
  },
  "varInspector": {
   "cols": {
    "lenName": 16,
    "lenType": 16,
    "lenVar": 40
   },
   "kernels_config": {
    "python": {
     "delete_cmd_postfix": "",
     "delete_cmd_prefix": "del ",
     "library": "var_list.py",
     "varRefreshCmd": "print(var_dic_list())"
    },
    "r": {
     "delete_cmd_postfix": ") ",
     "delete_cmd_prefix": "rm(",
     "library": "var_list.r",
     "varRefreshCmd": "cat(var_dic_list()) "
    }
   },
   "types_to_exclude": [
    "module",
    "function",
    "builtin_function_or_method",
    "instance",
    "_Feature"
   ],
   "window_display": false
  }
 },
 "nbformat": 4,
 "nbformat_minor": 2
}
